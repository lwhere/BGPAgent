{
 "cells": [
  {
   "cell_type": "code",
   "execution_count": null,
   "metadata": {},
   "outputs": [
    {
     "ename": "",
     "evalue": "",
     "output_type": "error",
     "traceback": [
      "\u001b[1;31mFailed to start the Kernel. \n",
      "\u001b[1;31mJupyter Server crashed. Unable to connect. \n",
      "\u001b[1;31mError code from Jupyter: 1\n",
      "\u001b[1;31m[I 2024-07-31 19:48:31.032 ServerApp] jupyter_lsp | extension was successfully linked.\n",
      "\u001b[1;31m[I 2024-07-31 19:48:31.039 ServerApp] jupyter_server_terminals | extension was successfully linked.\n",
      "\u001b[1;31m[W 2024-07-31 19:48:31.041 LabApp] 'iopub_data_rate_limit' has moved from NotebookApp to ServerApp. This config will be passed to ServerApp. Be sure to update your config before our next release.\n",
      "\u001b[1;31m[W 2024-07-31 19:48:31.046 ServerApp] ServerApp.iopub_data_rate_limit config is deprecated in 2.0. Use ZMQChannelsWebsocketConnection.iopub_data_rate_limit.\n",
      "\u001b[1;31m[I 2024-07-31 19:48:31.046 ServerApp] jupyterlab | extension was successfully linked.\n",
      "\u001b[1;31m[I 2024-07-31 19:48:31.053 ServerApp] notebook | extension was successfully linked.\n",
      "\u001b[1;31m[I 2024-07-31 19:48:31.294 ServerApp] notebook_shim | extension was successfully linked.\n",
      "\u001b[1;31m[I 2024-07-31 19:48:31.338 ServerApp] notebook_shim | extension was successfully loaded.\n",
      "\u001b[1;31m[I 2024-07-31 19:48:31.340 ServerApp] jupyter_lsp | extension was successfully loaded.\n",
      "\u001b[1;31m[I 2024-07-31 19:48:31.341 ServerApp] jupyter_server_terminals | extension was successfully loaded.\n",
      "\u001b[1;31m[I 2024-07-31 19:48:31.342 LabApp] JupyterLab extension loaded from /home/miniconda3/lib/python3.11/site-packages/jupyterlab\n",
      "\u001b[1;31m[I 2024-07-31 19:48:31.342 LabApp] JupyterLab application directory is /home/miniconda3/share/jupyter/lab\n",
      "\u001b[1;31m[I 2024-07-31 19:48:31.343 LabApp] Extension Manager is 'pypi'.\n",
      "\u001b[1;31m[I 2024-07-31 19:48:31.396 ServerApp] jupyterlab | extension was successfully loaded.\n",
      "\u001b[1;31m[I 2024-07-31 19:48:31.400 ServerApp] notebook | extension was successfully loaded.\n",
      "\u001b[1;31m[C 2024-07-31 19:48:31.401 ServerApp] Running as root is not recommended. Use --allow-root to bypass. \n",
      "\u001b[1;31mView Jupyter <a href='command:jupyter.viewOutput'>log</a> for further details."
     ]
    }
   ],
   "source": [
    "import matplotlib.pyplot as plt\n",
    "\n",
    "# Extract the data for the plot\n",
    "methods = ['zero-shot', 'asrank-zero-shot', 'asrank-zero-shot-COT', 'few-shot', 'few-shot-COT', 'rag-COT (clique+transit degree)', 'fine-tune']\n",
    "acc_values = [0.58, 0.56, 0.56, 0.63, 0.65, 0.62, 0.75]  # Assuming 66/88 translates to 0.75 accuracy\n",
    "\n",
    "# Recreate the bar chart with non-tilted text, using line breaks for labels\n",
    "plt.figure(figsize=(10, 6))\n",
    "plt.bar(methods, acc_values, color='skyblue')\n",
    "plt.axhline(y=0.53, color='red', linestyle='--', linewidth=1, label='ASrank algorithm')\n",
    "plt.xlabel('Method')\n",
    "plt.ylabel('Accuracy (Acc)')\n",
    "plt.title('Accuracy for Different Methods')\n",
    "plt.ylim(0, 1)\n",
    "plt.grid(axis='y')\n",
    "plt.legend(loc='upper right')\n",
    "\n",
    "# Adjust x-tick labels with line breaks for better readability\n",
    "methods_wrapped = [\n",
    "    'zero-shot', \n",
    "    'asrank-\\nzero-shot', \n",
    "    'asrank-zero-\\nshot-COT', \n",
    "    'few-shot', \n",
    "    'few-shot-\\nCOT', \n",
    "    'rag-COT\\n(clique+transit\\ndegree)', \n",
    "    'fine-tune'\n",
    "]\n",
    "plt.xticks(range(len(methods_wrapped)), methods_wrapped)\n",
    "\n",
    "# Show the plot with the new label formatting\n",
    "plt.tight_layout()\n",
    "plt.show()"
   ]
  }
 ],
 "metadata": {
  "kernelspec": {
   "display_name": "base",
   "language": "python",
   "name": "python3"
  },
  "language_info": {
   "name": "python",
   "version": "3.11.5"
  }
 },
 "nbformat": 4,
 "nbformat_minor": 2
}
