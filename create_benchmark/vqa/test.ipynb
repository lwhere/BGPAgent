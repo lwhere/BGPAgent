{
 "cells": [
  {
   "cell_type": "code",
   "execution_count": null,
   "metadata": {},
   "outputs": [
    {
     "ename": "",
     "evalue": "",
     "output_type": "error",
     "traceback": [
      "\u001b[1;31mJupyter cannot be started. Error attempting to locate Jupyter: Running cells with 'Python 3.12.0' requires the jupyter and notebook package.\n",
      "\u001b[1;31mRun the following command to install 'jupyter and notebook' into the Python environment. \n",
      "\u001b[1;31mCommand: 'python -m pip install jupyter notebook -U\n",
      "\u001b[1;31mor\n",
      "\u001b[1;31mconda install jupyter notebook -U'\n",
      "\u001b[1;31mClick <a href='https://aka.ms/installJupyterForVSCode'>here</a> for more info."
     ]
    }
   ],
   "source": [
    "import matplotlib.pyplot as plt\n",
    "import networkx as nx\n",
    "import random\n",
    "\n",
    "# Define the clique members\n",
    "clique_members = [\n",
    "    \"174\", \"209\", \"286\", \"701\", \"1239\", \"1299\", \"2828\",\n",
    "    \"2914\", \"3257\", \"3320\", \"3356\", \"3491\", \"5511\",\n",
    "    \"6453\", \"6461\", \"6762\", \"6830\", \"7018\", \"12956\"\n",
    "]\n",
    "\n",
    "def generate_clique_image(members):\n",
    "    # Create a graph\n",
    "    G = nx.Graph()\n",
    "\n",
    "    # Add nodes\n",
    "    G.add_nodes_from(members)\n",
    "\n",
    "    # Add edges to form a clique\n",
    "    for i in range(len(members)):\n",
    "        for j in range(i + 1, len(members)):\n",
    "            G.add_edge(members[i], members[j])\n",
    "\n",
    "    # Define positions of the nodes\n",
    "    pos = {\n",
    "        members[0]: (0, 1),\n",
    "        members[1]: (1, 1),\n",
    "        members[2]: (0, 0),\n",
    "        members[3]: (1, 0)\n",
    "    }\n",
    "\n",
    "    # Draw the nodes\n",
    "    nx.draw_networkx_nodes(G, pos, node_size=2000, node_color='white', edgecolors='black')\n",
    "\n",
    "    # Draw the edges\n",
    "    nx.draw_networkx_edges(G, pos, edgelist=G.edges(), style='dashed')\n",
    "\n",
    "    # Draw the labels\n",
    "    nx.draw_networkx_labels(G, pos, labels={node: f\"{node}:transit degree\" for node in members}, font_size=10)\n",
    "\n",
    "    # Add clique labels\n",
    "    plt.text(-0.3, 0.5, 'clique', fontsize=12, ha='center')\n",
    "    plt.text(1.3, 0.5, 'clique', fontsize=12, ha='center')\n",
    "\n",
    "    # Display the plot\n",
    "    plt.title('Clique Graph Example')\n",
    "    plt.axis('off')\n",
    "    plt.show()\n",
    "\n",
    "def select_and_generate_clique(clique_members, n=4):\n",
    "    selected_members = random.sample(clique_members, n)\n",
    "    generate_clique_image(selected_members)\n",
    "\n",
    "# Example usage:\n",
    "select_and_generate_clique(clique_members)"
   ]
  }
 ],
 "metadata": {
  "kernelspec": {
   "display_name": "base",
   "language": "python",
   "name": "python3"
  },
  "language_info": {
   "name": "python",
   "version": "3.11.5"
  }
 },
 "nbformat": 4,
 "nbformat_minor": 2
}
